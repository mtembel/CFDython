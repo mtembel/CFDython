{
 "metadata": {
  "name": "FirstTest"
 },
 "nbformat": 3,
 "nbformat_minor": 0,
 "worksheets": [
  {
   "cells": [
    {
     "cell_type": "heading",
     "level": 1,
     "metadata": {},
     "source": [
      "A brief introduction"
     ]
    },
    {
     "cell_type": "markdown",
     "metadata": {},
     "source": [
      "I will be using ipython notebook to solve a 1D heat transfer equation. The governing equation can be written as follows:  \n",
      "\n",
      "$\\frac{\\partial T}{\\partial t}=k\\frac{\\partial T^2} {\\partial  x ^2}$\n",
      "\n",
      "which results using the finite difference method :\n",
      "\n",
      "$\\frac{T^{n+1}_{i}-T^n_i}{\\Delta t}=k\\frac{T_{i+1}^{n}+2T_i^n+T_{i-1}^n}{(\\Delta x)^2}$"
     ]
    },
    {
     "cell_type": "markdown",
     "metadata": {},
     "source": [
      "First off an introduction to python and matplotlib... first committed on Aug 15, 2015"
      "\n"
      " first committed on Aug 15, 2015"
     ]
    },
    {
     "cell_type": "code",
     "collapsed": false,
     "input": [
      "x=linspace(0,5*pi,100)"
     ],
     "language": "python",
     "metadata": {},
     "outputs": [],
     "prompt_number": 47
    },
    {
     "cell_type": "code",
     "collapsed": false,
     "input": [
      "y=cos(x)"
     ],
     "language": "python",
     "metadata": {},
     "outputs": [],
     "prompt_number": 48
    },
    {
     "cell_type": "code",
     "collapsed": false,
     "input": [
      "plot(x,y,'r--', x, -y)"
     ],
     "language": "python",
     "metadata": {},
     "outputs": [
      {
       "output_type": "pyout",
       "prompt_number": 49,
       "text": [
        "[<matplotlib.lines.Line2D at 0x41695d0>,\n",
        " <matplotlib.lines.Line2D at 0x4169810>]"
       ]
      },
      {
       "output_type": "display_data",
       "png": "iVBORw0KGgoAAAANSUhEUgAAAX0AAAD9CAYAAABQvqc9AAAABHNCSVQICAgIfAhkiAAAAAlwSFlz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\n"
      }
     ],
     "prompt_number": 49
    },
    {
     "cell_type": "code",
     "collapsed": false,
     "input": [
      "L=[1, 2, 3]"
     ],
     "language": "python",
     "metadata": {},
     "outputs": [],
     "prompt_number": 50
    },
    {
     "cell_type": "code",
     "collapsed": false,
     "input": [
      "print L\n"
     ],
     "language": "python",
     "metadata": {},
     "outputs": [
      {
       "output_type": "stream",
       "stream": "stdout",
       "text": [
        "[1, 2, 3]\n"
       ]
      }
     ],
     "prompt_number": 51
    },
    {
     "cell_type": "code",
     "collapsed": false,
     "input": [
      "L+L"
     ],
     "language": "python",
     "metadata": {},
     "outputs": [
      {
       "output_type": "pyout",
       "prompt_number": 52,
       "text": [
        "[1, 2, 3, 1, 2, 3]"
       ]
      }
     ],
     "prompt_number": 52
    },
    {
     "cell_type": "code",
     "collapsed": false,
     "input": [
      "print L+L"
     ],
     "language": "python",
     "metadata": {},
     "outputs": [
      {
       "output_type": "stream",
       "stream": "stdout",
       "text": [
        "[1, 2, 3, 1, 2, 3]\n"
       ]
      }
     ],
     "prompt_number": 53
    },
    {
     "cell_type": "code",
     "collapsed": false,
     "input": [
      "a=array(L)\n"
     ],
     "language": "python",
     "metadata": {},
     "outputs": [],
     "prompt_number": 54
    },
    {
     "cell_type": "code",
     "collapsed": false,
     "input": [
      "print a"
     ],
     "language": "python",
     "metadata": {},
     "outputs": [
      {
       "output_type": "stream",
       "stream": "stdout",
       "text": [
        "[1 2 3]\n"
       ]
      }
     ],
     "prompt_number": 55
    },
    {
     "cell_type": "code",
     "collapsed": false,
     "input": [
      "a+a\n"
     ],
     "language": "python",
     "metadata": {},
     "outputs": [
      {
       "output_type": "pyout",
       "prompt_number": 56,
       "text": [
        "array([2, 4, 6])"
       ]
      }
     ],
     "prompt_number": 56
    },
    {
     "cell_type": "code",
     "collapsed": false,
     "input": [],
     "language": "python",
     "metadata": {},
     "outputs": [],
     "prompt_number": 56
    }
   ],
   "metadata": {}
  }
 ]
}
